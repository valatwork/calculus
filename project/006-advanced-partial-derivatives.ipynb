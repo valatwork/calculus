{
 "cells": [
  {
   "metadata": {},
   "cell_type": "markdown",
   "source": "# Advanced Partial Derivatives\n",
   "id": "b3de31a2ded02023"
  },
  {
   "metadata": {},
   "cell_type": "markdown",
   "source": [
    "Let's say we want to determine the volume of a cylinder, using a multivariate function: it would be $\\pi$ times the squared radius times the length of the cylinder $v = \\pi r^2 l$.\n",
    "\n",
    "The partial derivative of the volume with respect to the length of the cylinder would be: $\\frac{\\partial v}{\\partial l}\\frac{d}{dl}(l)$, and because $l$, according to the power rule is equal to 1, we can say that the partial derivative of the volume with respect to the length of the cylinder is equal to $\\pi r^2$.\n",
    "\n",
    "In this case, the variable $r^2$ is being treated as a constant because $r^2$ is not being differentiated.\n",
    "\n",
    "A change in $l$ corresponds to a change in volume by $\\pi r^2$."
   ],
   "id": "38fee2d762cce7cc"
  },
  {
   "metadata": {
    "ExecuteTime": {
     "end_time": "2025-04-11T13:28:51.011220Z",
     "start_time": "2025-04-11T13:28:47.131730Z"
    }
   },
   "cell_type": "code",
   "source": [
    "import sympy as sp\n",
    "import math\n",
    "import torch"
   ],
   "id": "badd92a268a63795",
   "outputs": [],
   "execution_count": 2
  },
  {
   "metadata": {
    "ExecuteTime": {
     "end_time": "2025-04-11T13:29:00.889991Z",
     "start_time": "2025-04-11T13:29:00.886491Z"
    }
   },
   "cell_type": "code",
   "source": [
    "def cylinder_volume(my_r, my_l):\n",
    "    return math.pi * my_r**2 * my_l"
   ],
   "id": "4be1599da838cfd1",
   "outputs": [],
   "execution_count": 4
  },
  {
   "metadata": {},
   "cell_type": "markdown",
   "source": "Let's assume the radius is 3 meters and the length is 5 meters:",
   "id": "35559a084dde1e19"
  },
  {
   "metadata": {
    "ExecuteTime": {
     "end_time": "2025-04-11T13:29:35.541928Z",
     "start_time": "2025-04-11T13:29:35.535429Z"
    }
   },
   "cell_type": "code",
   "source": [
    "r = torch.tensor(3.).requires_grad_()\n",
    "l = torch.tensor(5.).requires_grad_()"
   ],
   "id": "ce594f5c433b7f6d",
   "outputs": [],
   "execution_count": 5
  },
  {
   "metadata": {
    "ExecuteTime": {
     "end_time": "2025-04-11T13:30:15.550552Z",
     "start_time": "2025-04-11T13:30:15.539053Z"
    }
   },
   "cell_type": "code",
   "source": [
    "v = cylinder_volume(r, l)\n",
    "v"
   ],
   "id": "a70b150ae63003dd",
   "outputs": [
    {
     "data": {
      "text/plain": [
       "tensor(141.3717, grad_fn=<MulBackward0>)"
      ]
     },
     "execution_count": 6,
     "metadata": {},
     "output_type": "execute_result"
    }
   ],
   "execution_count": 6
  },
  {
   "metadata": {
    "ExecuteTime": {
     "end_time": "2025-04-11T13:30:21.828663Z",
     "start_time": "2025-04-11T13:30:21.824163Z"
    }
   },
   "cell_type": "code",
   "source": "v.backward()",
   "id": "ed69cc008c754925",
   "outputs": [],
   "execution_count": 7
  },
  {
   "metadata": {
    "ExecuteTime": {
     "end_time": "2025-04-11T13:30:25.486389Z",
     "start_time": "2025-04-11T13:30:25.480888Z"
    }
   },
   "cell_type": "code",
   "source": "l.grad",
   "id": "22ecb30d4f393875",
   "outputs": [
    {
     "data": {
      "text/plain": [
       "tensor(28.2743)"
      ]
     },
     "execution_count": 8,
     "metadata": {},
     "output_type": "execute_result"
    }
   ],
   "execution_count": 8
  },
  {
   "metadata": {},
   "cell_type": "markdown",
   "source": "We can demonstrate that $\\frac{\\partial v}{\\partial l} = \\pi r^2$:",
   "id": "d5d5baca90ef0ac6"
  },
  {
   "metadata": {
    "ExecuteTime": {
     "end_time": "2025-04-11T13:31:31.077407Z",
     "start_time": "2025-04-11T13:31:31.071905Z"
    }
   },
   "cell_type": "code",
   "source": "math.pi * 3**2",
   "id": "2b921fc52641c78",
   "outputs": [
    {
     "data": {
      "text/plain": [
       "28.274333882308138"
      ]
     },
     "execution_count": 9,
     "metadata": {},
     "output_type": "execute_result"
    }
   ],
   "execution_count": 9
  },
  {
   "metadata": {},
   "cell_type": "markdown",
   "source": "This means that with $r = 3$, a change in the length of the cylinder will change the volume by $\\approx 28.27 m^3$ for every meter of change in length.",
   "id": "10bc400076da5b4d"
  },
  {
   "metadata": {
    "ExecuteTime": {
     "end_time": "2025-04-11T13:33:44.772998Z",
     "start_time": "2025-04-11T13:33:44.768501Z"
    }
   },
   "cell_type": "code",
   "source": "cylinder_volume(3, 6)",
   "id": "cdd100717df68a06",
   "outputs": [
    {
     "data": {
      "text/plain": [
       "169.64600329384882"
      ]
     },
     "execution_count": 10,
     "metadata": {},
     "output_type": "execute_result"
    }
   ],
   "execution_count": 10
  },
  {
   "metadata": {
    "ExecuteTime": {
     "end_time": "2025-04-11T13:33:57.501977Z",
     "start_time": "2025-04-11T13:33:57.497476Z"
    }
   },
   "cell_type": "code",
   "source": "cylinder_volume(3, 6) - cylinder_volume(3, 5)",
   "id": "9b662fef03098d77",
   "outputs": [
    {
     "data": {
      "text/plain": [
       "28.274333882308127"
      ]
     },
     "execution_count": 11,
     "metadata": {},
     "output_type": "execute_result"
    }
   ],
   "execution_count": 11
  },
  {
   "metadata": {
    "ExecuteTime": {
     "end_time": "2025-04-11T13:35:47.720578Z",
     "start_time": "2025-04-11T13:35:47.716079Z"
    }
   },
   "cell_type": "code",
   "source": "cylinder_volume(3, 7) - cylinder_volume(3, 6)",
   "id": "340f411bc39b6b13",
   "outputs": [
    {
     "data": {
      "text/plain": [
       "28.274333882308156"
      ]
     },
     "execution_count": 17,
     "metadata": {},
     "output_type": "execute_result"
    }
   ],
   "execution_count": 17
  },
  {
   "metadata": {},
   "cell_type": "markdown",
   "source": "Every increase of $l$ by $n$ units will increase the volume by $\\pi r^2$ times $n$:",
   "id": "b3158e7a97b26fa"
  },
  {
   "metadata": {
    "ExecuteTime": {
     "end_time": "2025-04-11T13:35:58.115872Z",
     "start_time": "2025-04-11T13:35:58.111372Z"
    }
   },
   "cell_type": "code",
   "source": "cylinder_volume(3, 8) - cylinder_volume(3, 6)",
   "id": "cbbb0c7dcff43ff6",
   "outputs": [
    {
     "data": {
      "text/plain": [
       "56.54866776461628"
      ]
     },
     "execution_count": 18,
     "metadata": {},
     "output_type": "execute_result"
    }
   ],
   "execution_count": 18
  },
  {
   "metadata": {
    "ExecuteTime": {
     "end_time": "2025-04-11T13:36:19.882760Z",
     "start_time": "2025-04-11T13:36:19.877761Z"
    }
   },
   "cell_type": "code",
   "source": "cylinder_volume(3, 9) - cylinder_volume(3, 6)",
   "id": "f9acb37280ee7547",
   "outputs": [
    {
     "data": {
      "text/plain": [
       "84.82300164692441"
      ]
     },
     "execution_count": 19,
     "metadata": {},
     "output_type": "execute_result"
    }
   ],
   "execution_count": 19
  },
  {
   "metadata": {},
   "cell_type": "markdown",
   "source": [
    "Let's also calculate the partial derivative of the volume with respect to the radius of the cylinder:\n",
    "\n",
    "$$\\frac{\\partial v}{\\partial r} = \\pi\\frac{d}{dr}(r^2)l = \\pi(2r)l = 2\\pi rl$$\n",
    "\n",
    "What this means is that a change in the radius of the cylinder will change the volume by $2\\pi rl$, but only if we work with an infinitesimal change in the radius."
   ],
   "id": "bafbf2286e62abbe"
  },
  {
   "metadata": {
    "ExecuteTime": {
     "end_time": "2025-04-11T14:10:19.178319Z",
     "start_time": "2025-04-11T14:10:19.171819Z"
    }
   },
   "cell_type": "code",
   "source": "r.grad",
   "id": "92fc2be994efb37f",
   "outputs": [
    {
     "data": {
      "text/plain": [
       "tensor(94.2478)"
      ]
     },
     "execution_count": 24,
     "metadata": {},
     "output_type": "execute_result"
    }
   ],
   "execution_count": 24
  },
  {
   "metadata": {
    "ExecuteTime": {
     "end_time": "2025-04-11T14:10:19.669820Z",
     "start_time": "2025-04-11T14:10:19.665319Z"
    }
   },
   "cell_type": "code",
   "source": "2 * math.pi * 3 * 5",
   "id": "4ddfad602ad18f31",
   "outputs": [
    {
     "data": {
      "text/plain": [
       "94.24777960769379"
      ]
     },
     "execution_count": 25,
     "metadata": {},
     "output_type": "execute_result"
    }
   ],
   "execution_count": 25
  },
  {
   "metadata": {},
   "cell_type": "markdown",
   "source": [
    "Since $r$ is included in the partial derivative, adjusting it affects the scale of its impact on $v$\n",
    "\n",
    "Typically, only an infinitesimally small $\\Delta r$ would be applied. The smaller the $\\Delta r$, the closer to the true $\\frac{\\partial v}{\\partial r}$ we get. The larger the $\\Delta r$, the more inaccurate the approximation becomes.\n",
    "\n",
    "E.g., at $\\Delta r = 1 \\times 10^{-6}$:"
   ],
   "id": "c1729bae57dc5ec4"
  },
  {
   "metadata": {
    "ExecuteTime": {
     "end_time": "2025-04-11T14:14:45.638457Z",
     "start_time": "2025-04-11T14:14:45.633459Z"
    }
   },
   "cell_type": "code",
   "source": [
    "delta_r = 1e-6\n",
    "(cylinder_volume(3 + delta_r, 5) - cylinder_volume(3, 5)) / delta_r"
   ],
   "id": "868055f2b4a0f12e",
   "outputs": [
    {
     "data": {
      "text/plain": [
       "94.24779531741478"
      ]
     },
     "execution_count": 29,
     "metadata": {},
     "output_type": "execute_result"
    }
   ],
   "execution_count": 29
  },
  {
   "metadata": {},
   "cell_type": "markdown",
   "source": [
    "Next up:\n",
    "\n",
    "Find all the partial derivatives of the following functions:\n",
    "\n",
    "1. $z = y^3 + 5xy$\n",
    "2. The surface area of a cylinder is described by $a = 2\\pi r^2 + 2\\pi rh$.\n",
    "3. The volume of a square prism with a cube cut out of its center is described by $v = x^2y - z^3$"
   ],
   "id": "f7029c3d85bf084d"
  },
  {
   "metadata": {
    "ExecuteTime": {
     "end_time": "2025-04-11T14:19:41.545529Z",
     "start_time": "2025-04-11T14:19:41.539028Z"
    }
   },
   "cell_type": "code",
   "source": [
    "# 1. partial derivatives of z = y^3 + 5xy\n",
    "x, y, z = sp.symbols('x y z')\n",
    "z = y**3 + 5*x*y\n",
    "dz_dx = sp.diff(z, x)\n",
    "dz_dy = sp.diff(z, y)\n",
    "dz_dx"
   ],
   "id": "1c79ab407414251e",
   "outputs": [
    {
     "data": {
      "text/plain": [
       "5*y"
      ],
      "text/latex": "$\\displaystyle 5 y$"
     },
     "execution_count": 34,
     "metadata": {},
     "output_type": "execute_result"
    }
   ],
   "execution_count": 34
  },
  {
   "metadata": {
    "ExecuteTime": {
     "end_time": "2025-04-11T14:19:46.559177Z",
     "start_time": "2025-04-11T14:19:46.553679Z"
    }
   },
   "cell_type": "code",
   "source": "dz_dy",
   "id": "b7276dc1adef8203",
   "outputs": [
    {
     "data": {
      "text/plain": [
       "5*x + 3*y**2"
      ],
      "text/latex": "$\\displaystyle 5 x + 3 y^{2}$"
     },
     "execution_count": 35,
     "metadata": {},
     "output_type": "execute_result"
    }
   ],
   "execution_count": 35
  },
  {
   "metadata": {
    "ExecuteTime": {
     "end_time": "2025-04-11T14:19:51.521940Z",
     "start_time": "2025-04-11T14:19:51.515439Z"
    }
   },
   "cell_type": "code",
   "source": [
    "# 2. partial derivatives of a = 2pi*r^2 + 2pi*rh\n",
    "r, h, a = sp.symbols('r h a')\n",
    "a = 2*sp.pi*r**2 + 2*sp.pi*r*h\n",
    "da_dr = sp.diff(a, r)\n",
    "da_dh = sp.diff(a, h)\n",
    "da_dr"
   ],
   "id": "f65a8a37e6e843aa",
   "outputs": [
    {
     "data": {
      "text/plain": [
       "2*pi*h + 4*pi*r"
      ],
      "text/latex": "$\\displaystyle 2 \\pi h + 4 \\pi r$"
     },
     "execution_count": 36,
     "metadata": {},
     "output_type": "execute_result"
    }
   ],
   "execution_count": 36
  },
  {
   "metadata": {
    "ExecuteTime": {
     "end_time": "2025-04-11T14:19:55.950460Z",
     "start_time": "2025-04-11T14:19:55.944960Z"
    }
   },
   "cell_type": "code",
   "source": "da_dh",
   "id": "455c89194b02af83",
   "outputs": [
    {
     "data": {
      "text/plain": [
       "2*pi*r"
      ],
      "text/latex": "$\\displaystyle 2 \\pi r$"
     },
     "execution_count": 37,
     "metadata": {},
     "output_type": "execute_result"
    }
   ],
   "execution_count": 37
  },
  {
   "metadata": {
    "ExecuteTime": {
     "end_time": "2025-04-11T14:20:01.403975Z",
     "start_time": "2025-04-11T14:20:01.397977Z"
    }
   },
   "cell_type": "code",
   "source": [
    "# 3. partial derivatives of v = x^2y - z^3\n",
    "x, y, z = sp.symbols('x y z')\n",
    "v = x**2*y - z**3\n",
    "dv_dx = sp.diff(v, x)\n",
    "dv_dy = sp.diff(v, y)\n",
    "dv_dz = sp.diff(v, z)\n",
    "dv_dx"
   ],
   "id": "5d196cf9d7682b3",
   "outputs": [
    {
     "data": {
      "text/plain": [
       "2*x*y"
      ],
      "text/latex": "$\\displaystyle 2 x y$"
     },
     "execution_count": 38,
     "metadata": {},
     "output_type": "execute_result"
    }
   ],
   "execution_count": 38
  },
  {
   "metadata": {
    "ExecuteTime": {
     "end_time": "2025-04-11T14:20:06.417454Z",
     "start_time": "2025-04-11T14:20:06.412952Z"
    }
   },
   "cell_type": "code",
   "source": "dv_dy",
   "id": "11a72643dc488eae",
   "outputs": [
    {
     "data": {
      "text/plain": [
       "x**2"
      ],
      "text/latex": "$\\displaystyle x^{2}$"
     },
     "execution_count": 39,
     "metadata": {},
     "output_type": "execute_result"
    }
   ],
   "execution_count": 39
  },
  {
   "metadata": {
    "ExecuteTime": {
     "end_time": "2025-04-11T14:20:07.762745Z",
     "start_time": "2025-04-11T14:20:07.757745Z"
    }
   },
   "cell_type": "code",
   "source": "dv_dz",
   "id": "b94c908956da2092",
   "outputs": [
    {
     "data": {
      "text/plain": [
       "-3*z**2"
      ],
      "text/latex": "$\\displaystyle - 3 z^{2}$"
     },
     "execution_count": 40,
     "metadata": {},
     "output_type": "execute_result"
    }
   ],
   "execution_count": 40
  }
 ],
 "metadata": {
  "kernelspec": {
   "display_name": "Python 3",
   "language": "python",
   "name": "python3"
  },
  "language_info": {
   "codemirror_mode": {
    "name": "ipython",
    "version": 2
   },
   "file_extension": ".py",
   "mimetype": "text/x-python",
   "name": "python",
   "nbconvert_exporter": "python",
   "pygments_lexer": "ipython2",
   "version": "2.7.6"
  }
 },
 "nbformat": 4,
 "nbformat_minor": 5
}
