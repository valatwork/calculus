{
 "cells": [
  {
   "metadata": {},
   "cell_type": "markdown",
   "source": [
    "# Derivative Notation and Derivative Rules\n",
    "\n"
   ],
   "id": "42a6a786f073b36"
  },
  {
   "metadata": {},
   "cell_type": "markdown",
   "source": [
    "## Derivative Notation\n",
    "\n"
   ],
   "id": "c6717fb17667d940"
  },
  {
   "metadata": {},
   "cell_type": "markdown",
   "source": [
    "Suppose we have a simple function $y = f(x)$, where we have to calculate $y$ as a function of $x$.\n",
    "\n",
    "| Type                                | Newton     | \"Modern\" | Lagrange | Leibnitz            | Implied                 | D         |\n",
    "|-------------------------------------|------------|----------|----------|---------------------|-------------------------|-----------|\n",
    "| Differentiation Operator            |            |          |          |                     | $\\frac{dy}{dx}$         | $D_x$     |\n",
    "| First derivative of $y$ w.r.t. $x$  | $\\dot{y}$  | $y'$     | $f'(x)$  | $\\frac{dy}{dx}$     | $\\frac{dy}{dx}f(x)$     | $D_x f$   |\n",
    "| Second derivative of $y$ w.r.t. $x$ | $\\ddot{y}$ | $y''$    | $f''(x)$ | $\\frac{d^2y}{dx^2}$ | $\\frac{d^2y}{dx^2}f(x)$ | $D_x^2 f$ |\n",
    "\n",
    "\n"
   ],
   "id": "912de9e2cdbdd91f"
  },
  {
   "metadata": {},
   "cell_type": "markdown",
   "source": "## Derivative Rules",
   "id": "26ab000f0ebd810b"
  },
  {
   "metadata": {
    "ExecuteTime": {
     "end_time": "2025-04-08T13:16:36.804822Z",
     "start_time": "2025-04-08T13:16:36.323323Z"
    }
   },
   "cell_type": "code",
   "source": "import sympy as sp",
   "id": "30a74f965ad52a76",
   "outputs": [],
   "execution_count": 1
  },
  {
   "metadata": {},
   "cell_type": "markdown",
   "source": "### Derivative of a constant",
   "id": "389371ab9b3ababf"
  },
  {
   "metadata": {},
   "cell_type": "markdown",
   "source": [
    "\n",
    "Assuming $c$ is a constant, we have:\n",
    "\n",
    "$$\\frac{d}{dx}c = 0$$\n",
    "\n",
    "A constant has no variation so its slope is nothing, regardless of the constant value."
   ],
   "id": "f7c17363cad5ba76"
  },
  {
   "metadata": {
    "ExecuteTime": {
     "end_time": "2025-04-08T13:16:38.692553Z",
     "start_time": "2025-04-08T13:16:38.683555Z"
    }
   },
   "cell_type": "code",
   "source": [
    "# calculate the derivative of a constant using sympy\n",
    "sym_x = sp.symbols('x')\n",
    "constant_derivative = sp.diff(5, sym_x)\n",
    "constant_derivative"
   ],
   "id": "d3ed0233ea9b3001",
   "outputs": [
    {
     "data": {
      "text/plain": [
       "0"
      ],
      "text/latex": "$\\displaystyle 0$"
     },
     "execution_count": 2,
     "metadata": {},
     "output_type": "execute_result"
    }
   ],
   "execution_count": 2
  },
  {
   "metadata": {},
   "cell_type": "markdown",
   "source": "### Derivative of a power",
   "id": "a340af2130bfbcda"
  },
  {
   "metadata": {},
   "cell_type": "markdown",
   "source": [
    "\n",
    "Suppose we have a variable $x$ to the power of $n$, the first derivative is calculated as follows:\n",
    "\n",
    "$$\\frac{d}{dx}x^n = nx^{n-1}$$\n",
    "\n",
    "For example if $n=4$, we have:\n",
    "\n",
    "$$\\frac{d}{dx}x^4 = 4x^{4-1} = 4x^3$$"
   ],
   "id": "803e4f49d783ff3d"
  },
  {
   "metadata": {
    "ExecuteTime": {
     "end_time": "2025-04-08T13:16:40.326858Z",
     "start_time": "2025-04-08T13:16:40.277358Z"
    }
   },
   "cell_type": "code",
   "source": [
    "# calculate the derivative of x^4 using sympy\n",
    "sym_x = sp.symbols('x')\n",
    "n = 4\n",
    "power_derivative = sp.diff(sym_x**n, sym_x)\n",
    "power_derivative"
   ],
   "id": "53537e960b8613da",
   "outputs": [
    {
     "data": {
      "text/plain": [
       "4*x**3"
      ],
      "text/latex": "$\\displaystyle 4 x^{3}$"
     },
     "execution_count": 3,
     "metadata": {},
     "output_type": "execute_result"
    }
   ],
   "execution_count": 3
  },
  {
   "metadata": {},
   "cell_type": "markdown",
   "source": "### Constant multiple rule",
   "id": "5822d18b91ae0c97"
  },
  {
   "metadata": {},
   "cell_type": "markdown",
   "source": [
    "If we have a constant $c$ multiplied by $y$, the derivative is given by:\n",
    "\n",
    "$$\\frac{d}{dx}(cy) = c\\frac{d}{dx}(y) = c\\frac{dy}{dx}$$\n",
    "\n",
    "For example, if $y = x^4$ and we want to calculate the derivative of $2y$, we have:\n",
    "\n",
    "$$\\frac{d}{dx}2y = 2\\frac{dy}{dx} = 2(4x^{4-1}) = 2(4x^3) = 8x^3$$\n",
    "\n",
    "Simplified:\n",
    "\n",
    "$$\\frac{dy}{dx} = 2(4x^3) = 8x^3$$"
   ],
   "id": "41f4cf3eccbeca3f"
  },
  {
   "metadata": {
    "ExecuteTime": {
     "end_time": "2025-04-08T13:16:41.495359Z",
     "start_time": "2025-04-08T13:16:41.487859Z"
    }
   },
   "cell_type": "code",
   "source": [
    "sym_x = sp.symbols('x')\n",
    "cmult_derivative = sp.diff(2 * sym_x**4, sym_x)\n",
    "cmult_derivative"
   ],
   "id": "32c4da03d015c0d8",
   "outputs": [
    {
     "data": {
      "text/plain": [
       "8*x**3"
      ],
      "text/latex": "$\\displaystyle 8 x^{3}$"
     },
     "execution_count": 4,
     "metadata": {},
     "output_type": "execute_result"
    }
   ],
   "execution_count": 4
  },
  {
   "metadata": {},
   "cell_type": "markdown",
   "source": "### Sum rule",
   "id": "4bd83facbf7a69fe"
  },
  {
   "metadata": {},
   "cell_type": "markdown",
   "source": [
    "If we have two different terms, say $y$ and $w$, we can calculate the derivatives separately and then add them together:\n",
    "\n",
    "$$\\frac{d(y + w)}{dx} = \\frac{dy}{dx} + \\frac{dw}{dx}$$\n",
    "\n",
    "For example, if $y = x^4$ and $w = x^9$, we have:\n",
    "\n",
    "$$\\frac{d(y + w)}{dx} = \\frac{dy}{dx} + \\frac{dw}{dx} = \\frac{d}{dx}(x^4) + \\frac{d}{dx}(x^9) = 4x^3 + 9x^8$$"
   ],
   "id": "45d43ba2928a4d64"
  },
  {
   "metadata": {},
   "cell_type": "markdown",
   "source": "Note that Sympy will order the terms from lowest to highest degree:",
   "id": "71ba1b0cd227e233"
  },
  {
   "metadata": {
    "ExecuteTime": {
     "end_time": "2025-04-08T13:16:42.261358Z",
     "start_time": "2025-04-08T13:16:42.248357Z"
    }
   },
   "cell_type": "code",
   "source": [
    "sym_x = sp.symbols('x')\n",
    "sum_derivative = sp.diff(sym_x**4 + sym_x**9, sym_x)\n",
    "sum_derivative"
   ],
   "id": "d17d2ad04f7164e1",
   "outputs": [
    {
     "data": {
      "text/plain": [
       "9*x**8 + 4*x**3"
      ],
      "text/latex": "$\\displaystyle 9 x^{8} + 4 x^{3}$"
     },
     "execution_count": 5,
     "metadata": {},
     "output_type": "execute_result"
    }
   ],
   "execution_count": 5
  },
  {
   "metadata": {},
   "cell_type": "markdown",
   "source": "Differentiate $y = -5x^3$",
   "id": "6f7c3afac50f0f64"
  },
  {
   "metadata": {
    "ExecuteTime": {
     "end_time": "2025-04-08T13:16:42.590858Z",
     "start_time": "2025-04-08T13:16:42.581357Z"
    }
   },
   "cell_type": "code",
   "source": [
    "sym_x = sp.symbols('x')\n",
    "diff_one = sp.diff(-5*sym_x**3, sym_x)\n",
    "diff_one"
   ],
   "id": "1873b5e4daababed",
   "outputs": [
    {
     "data": {
      "text/plain": [
       "-15*x**2"
      ],
      "text/latex": "$\\displaystyle - 15 x^{2}$"
     },
     "execution_count": 6,
     "metadata": {},
     "output_type": "execute_result"
    }
   ],
   "execution_count": 6
  },
  {
   "metadata": {},
   "cell_type": "markdown",
   "source": "Differentiate $y = 2x^2 + 2x + 2$",
   "id": "c4b0f11d26cd2314"
  },
  {
   "metadata": {
    "ExecuteTime": {
     "end_time": "2025-04-08T13:16:42.917877Z",
     "start_time": "2025-04-08T13:16:42.908877Z"
    }
   },
   "cell_type": "code",
   "source": [
    "sym_x = sp.symbols('x')\n",
    "diff_two = sp.diff(2*sym_x**2 + 2*sym_x + 2, sym_x)\n",
    "diff_two"
   ],
   "id": "edf27f0e6ed9b8a5",
   "outputs": [
    {
     "data": {
      "text/plain": [
       "4*x + 2"
      ],
      "text/latex": "$\\displaystyle 4 x + 2$"
     },
     "execution_count": 7,
     "metadata": {},
     "output_type": "execute_result"
    }
   ],
   "execution_count": 7
  },
  {
   "metadata": {},
   "cell_type": "markdown",
   "source": "Differentiate $y = 10x^5 - 6x^3 - x -1$",
   "id": "c6de5cf8fd13fae2"
  },
  {
   "metadata": {
    "ExecuteTime": {
     "end_time": "2025-04-08T13:16:45.200941Z",
     "start_time": "2025-04-08T13:16:45.186942Z"
    }
   },
   "cell_type": "code",
   "source": [
    "sym_x = sp.symbols('x')\n",
    "diff_three = sp.diff(10*sym_x**5 - 6*sym_x**3 - sym_x - 1, sym_x)\n",
    "diff_three"
   ],
   "id": "f7666fe311e55de4",
   "outputs": [
    {
     "data": {
      "text/plain": [
       "50*x**4 - 18*x**2 - 1"
      ],
      "text/latex": "$\\displaystyle 50 x^{4} - 18 x^{2} - 1$"
     },
     "execution_count": 8,
     "metadata": {},
     "output_type": "execute_result"
    }
   ],
   "execution_count": 8
  },
  {
   "metadata": {},
   "cell_type": "markdown",
   "source": "Find the slope of $y = x^2 + 2x + 2$ where $x = 2$",
   "id": "8266ceb2be315866"
  },
  {
   "metadata": {
    "ExecuteTime": {
     "end_time": "2025-04-08T13:16:45.480942Z",
     "start_time": "2025-04-08T13:16:45.470942Z"
    }
   },
   "cell_type": "code",
   "source": [
    "sym_x = sp.symbols('x')\n",
    "diff_four = sp.diff(sym_x**2 + 2*sym_x + 2, sym_x)\n",
    "slope_four = diff_four.subs(sym_x, 2)\n",
    "slope_four"
   ],
   "id": "17387d2aeb78ace4",
   "outputs": [
    {
     "data": {
      "text/plain": [
       "6"
      ],
      "text/latex": "$\\displaystyle 6$"
     },
     "execution_count": 9,
     "metadata": {},
     "output_type": "execute_result"
    }
   ],
   "execution_count": 9
  },
  {
   "metadata": {},
   "cell_type": "markdown",
   "source": "Find the slope of $y = x^2 + 2x + 2$ where $x = -1$",
   "id": "7ca6aa1220834aee"
  },
  {
   "metadata": {
    "ExecuteTime": {
     "end_time": "2025-04-08T13:16:46.035943Z",
     "start_time": "2025-04-08T13:16:46.029443Z"
    }
   },
   "cell_type": "code",
   "source": [
    "sym_x = sp.symbols('x')\n",
    "diff_five = sp.diff(sym_x**2 + 2*sym_x + 2, sym_x)\n",
    "slope_five = diff_four.subs(sym_x, -1)\n",
    "slope_five"
   ],
   "id": "ae379ddaa88dbce5",
   "outputs": [
    {
     "data": {
      "text/plain": [
       "0"
      ],
      "text/latex": "$\\displaystyle 0$"
     },
     "execution_count": 10,
     "metadata": {},
     "output_type": "execute_result"
    }
   ],
   "execution_count": 10
  },
  {
   "metadata": {},
   "cell_type": "markdown",
   "source": "### Product rule",
   "id": "de0d9c235b7c5fd2"
  },
  {
   "metadata": {},
   "cell_type": "markdown",
   "source": [
    "The product rules enables us to compute take two variables we want to calculate the derivative of, say $w$ and $z$, we calculate the derivative of those two variables separately and then add them together:\n",
    "\n",
    "$$\\frac{d(wz)}{dx} = w\\frac{dz}{dx} + z\\frac{dw}{dx}$$\n",
    "\n",
    "This is useful when:\n",
    "- The calculations involve several terms\n",
    "- The product of the two variables cannot be calculated prior to differentiation (there are ways to check this, but I haven't found a straightforward way to do this yet)\n",
    "    - both variables are functions of a common independent variable (in this case, $x$)\n",
    "    - neither variable is directly or indirectly a function of the other\n",
    "\n",
    "For example, say we have $y = (6x^3)(7x^4)$, $w = 6x^3$ and $z = 7x^4$, we can calculate the derivative as follows:\n",
    "\n",
    "$$\\frac{d(y)}{dx} = \\frac{d(wz)}{dx} = w\\frac{dz}{dx} + z\\frac{dw}{dx} = (6x^3)(28x^3) + (7x^4)(18x^2) = 168x^6 + 126x^6 = 294x^6$$"
   ],
   "id": "13d6e6e77f3037ea"
  },
  {
   "metadata": {
    "ExecuteTime": {
     "end_time": "2025-04-08T13:16:47.048942Z",
     "start_time": "2025-04-08T13:16:47.039442Z"
    }
   },
   "cell_type": "code",
   "source": [
    "sym_x = sp.symbols('x')\n",
    "product_derivative = sp.diff((6*sym_x**3)*(7*sym_x**4), sym_x)\n",
    "product_derivative"
   ],
   "id": "ef4e1aad37af4e52",
   "outputs": [
    {
     "data": {
      "text/plain": [
       "294*x**6"
      ],
      "text/latex": "$\\displaystyle 294 x^{6}$"
     },
     "execution_count": 11,
     "metadata": {},
     "output_type": "execute_result"
    }
   ],
   "execution_count": 11
  },
  {
   "metadata": {},
   "cell_type": "markdown",
   "source": "### Quotient rule",
   "id": "da2e50a51c2bd220"
  },
  {
   "metadata": {},
   "cell_type": "markdown",
   "source": [
    "It has many similarities to the product rule, but instead of multiplying two variables, we divide them:\n",
    "\n",
    "$$\\frac{d}{dx}\\bigg(\\frac{w}{z}\\bigg) = \\frac{z\\frac{dw}{dx} - w\\frac{dz}{dx}}{z^2}$$\n",
    "\n",
    "Let's say $y = \\frac{4x^2}{x^3 +1}$, $w = 4x^2$ and $z = x^3 + 1$, we can calculate the derivative as follows:\n",
    "\n",
    "$$\\frac{d}{dx}(y) = \\frac{d}{dx}\\bigg(\\frac{w}{z}\\bigg) = \\frac{z\\frac{dw}{dx} - w\\frac{dz}{dx}}{z^2} = \\frac{(x^3 + 1)(8x) - (4x^2)(3x^2)}{(x^3 + 1)^2} = \\frac{8x^4 + 8x - 12x^4}{(x^3 + 1)^2} = \\frac{-4x^4 + 8x}{(x^3 + 1)^2}$$\n"
   ],
   "id": "6505311841ba90ca"
  },
  {
   "metadata": {
    "ExecuteTime": {
     "end_time": "2025-04-08T15:00:23.349412Z",
     "start_time": "2025-04-08T15:00:23.328414Z"
    }
   },
   "cell_type": "code",
   "source": [
    "sym_x = sp.symbols('x')\n",
    "\n",
    "w = 4*sym_x**2\n",
    "z = sym_x**3 + 1\n",
    "\n",
    "dy_dx = (sp.diff(w, sym_x) * z - w * sp.diff(z, sym_x)) / z**2\n",
    "sp.simplify(dy_dx)"
   ],
   "id": "ecb6df5eac272e7e",
   "outputs": [
    {
     "data": {
      "text/plain": [
       "4*x*(2 - x**3)/(x**3 + 1)**2"
      ],
      "text/latex": "$\\displaystyle \\frac{4 x \\left(2 - x^{3}\\right)}{\\left(x^{3} + 1\\right)^{2}}$"
     },
     "execution_count": 176,
     "metadata": {},
     "output_type": "execute_result"
    }
   ],
   "execution_count": 176
  },
  {
   "metadata": {},
   "cell_type": "markdown",
   "source": "### Chain rule",
   "id": "d5c1e45f3f366640"
  },
  {
   "metadata": {},
   "cell_type": "markdown",
   "source": [
    "The chain rule is used to calculate the derivative of *nested functions* (aka *composite functions*): functions within functions.\n",
    "\n",
    "For example, if we have $y = f(g(x))$, we can calculate the derivative as follows:\n",
    "\n",
    "$$\\frac{dy}{dx} = \\frac{dy}{dg} \\frac{dg}{dx}$$\n",
    "\n",
    "As an example, let's say $y = (2x^2 + 8)^2$, we can let $g = 2x^2 + 8$; in that case, $y = g^2$: now $y$ is a function of $g$, and $g$ is a function of $x$.\n",
    "\n",
    "The derivative is calculated as follows:\n",
    "\n",
    "$y = g^2$\n",
    "\n",
    "$\\frac{dy}{dg} = 2g = 2(2x^2 + 8) = 4x^2 + 16$\n",
    "\n",
    "$g = 2x^2 + 8$\n",
    "\n",
    "$\\frac{dg}{dx} = 4x$\n",
    "\n",
    "$\\frac{dy}{dx} = \\frac{dy}{dg} \\frac{dg}{dx} = 4x(4x^2 + 16)$"
   ],
   "id": "cbca4e047dcd003"
  },
  {
   "metadata": {
    "ExecuteTime": {
     "end_time": "2025-04-08T15:12:54.569879Z",
     "start_time": "2025-04-08T15:12:54.558378Z"
    }
   },
   "cell_type": "code",
   "source": [
    "x, u = sp.symbols('x u')            # Define symbols\n",
    "\n",
    "# Step 1: Define y in terms of u (symbolic substitution)\n",
    "y = u**2                         # y = u²\n",
    "u_expr = 2*x**2 + 8              # u = 2x² + 8 (expression)\n",
    "\n",
    "# Step 2: Compute derivatives\n",
    "dy_du = sp.diff(y, u)               # dy/du = 2u\n",
    "du_dx = sp.diff(u_expr, x)          # du/dx = 4x\n",
    "\n",
    "# Step 3: Apply chain rule and substitute u back\n",
    "dy_dx_chain = dy_du.subs(u, u_expr) * du_dx  # 2*(2x² + 8) * 4x\n",
    "\n",
    "# Simplify the result\n",
    "dy_dx_simplified = dy_dx_chain.expand()      # 16x³ + 64x\n",
    "\n",
    "print(\"Derivative using chain rule:\")\n",
    "display(dy_dx_chain)             # Shows intermediate form: 8x(2x² + 8)\n",
    "print(\"\\nSimplified derivative:\")\n",
    "display(dy_dx_simplified)        # Final form: 16x³ + 64x"
   ],
   "id": "a6a9dfed0a11d668",
   "outputs": [
    {
     "name": "stdout",
     "output_type": "stream",
     "text": [
      "Derivative using chain rule:\n"
     ]
    },
    {
     "data": {
      "text/plain": [
       "4*x*(4*x**2 + 16)"
      ],
      "text/latex": "$\\displaystyle 4 x \\left(4 x^{2} + 16\\right)$"
     },
     "metadata": {},
     "output_type": "display_data"
    },
    {
     "name": "stdout",
     "output_type": "stream",
     "text": [
      "\n",
      "Simplified derivative:\n"
     ]
    },
    {
     "data": {
      "text/plain": [
       "16*x**3 + 64*x"
      ],
      "text/latex": "$\\displaystyle 16 x^{3} + 64 x$"
     },
     "metadata": {},
     "output_type": "display_data"
    }
   ],
   "execution_count": 211
  },
  {
   "metadata": {},
   "cell_type": "markdown",
   "source": "#### Some examples",
   "id": "7a4eab9fa792e39e"
  },
  {
   "metadata": {},
   "cell_type": "markdown",
   "source": "1. Use the product rule to find $f'(x)$ where $y = (2x^2 + 6x)(2x^3 + 5x^2)$",
   "id": "41daf3e5c99a865a"
  },
  {
   "metadata": {
    "ExecuteTime": {
     "end_time": "2025-04-08T15:18:54.444784Z",
     "start_time": "2025-04-08T15:18:54.406282Z"
    }
   },
   "cell_type": "code",
   "source": [
    "sym_x = sp.symbols('x')\n",
    "first_solution = sp.diff((2*sym_x**2 + 6*sym_x)*(2*sym_x**3 + 5*sym_x**2), sym_x)\n",
    "sp.simplify(first_solution)"
   ],
   "id": "aabf644e92e0d02f",
   "outputs": [
    {
     "data": {
      "text/plain": [
       "x**2*(20*x**2 + 88*x + 90)"
      ],
      "text/latex": "$\\displaystyle x^{2} \\left(20 x^{2} + 88 x + 90\\right)$"
     },
     "execution_count": 218,
     "metadata": {},
     "output_type": "execute_result"
    }
   ],
   "execution_count": 218
  },
  {
   "metadata": {},
   "cell_type": "markdown",
   "source": "2. Use the quotient rule to find $y'$ where $y = \\frac{6x^2}{2 - x}$",
   "id": "ef62f2dd9c06f0cb"
  },
  {
   "metadata": {
    "ExecuteTime": {
     "end_time": "2025-04-08T15:19:19.682216Z",
     "start_time": "2025-04-08T15:19:19.652714Z"
    }
   },
   "cell_type": "code",
   "source": [
    "sym_x = sp.symbols('x')\n",
    "second_solution = sp.diff(6*sym_x**2/(2 - sym_x), sym_x)\n",
    "sp.simplify(second_solution)"
   ],
   "id": "d670c70fe9657ef2",
   "outputs": [
    {
     "data": {
      "text/plain": [
       "6*x*(4 - x)/(x - 2)**2"
      ],
      "text/latex": "$\\displaystyle \\frac{6 x \\left(4 - x\\right)}{\\left(x - 2\\right)^{2}}$"
     },
     "execution_count": 219,
     "metadata": {},
     "output_type": "execute_result"
    }
   ],
   "execution_count": 219
  },
  {
   "metadata": {},
   "cell_type": "markdown",
   "source": "3. Differentiate $y = (3x + 1)^2$",
   "id": "d330e40e9c39a1f"
  },
  {
   "metadata": {
    "ExecuteTime": {
     "end_time": "2025-04-08T15:16:52.598458Z",
     "start_time": "2025-04-08T15:16:52.588458Z"
    }
   },
   "cell_type": "code",
   "source": [
    "sym_x = sp.symbols('x')\n",
    "third_solution = sp.diff((3*sym_x + 1)**2, sym_x)\n",
    "third_solution"
   ],
   "id": "f5db0ff8d3e77fc",
   "outputs": [
    {
     "data": {
      "text/plain": [
       "18*x + 6"
      ],
      "text/latex": "$\\displaystyle 18 x + 6$"
     },
     "execution_count": 215,
     "metadata": {},
     "output_type": "execute_result"
    }
   ],
   "execution_count": 215
  },
  {
   "metadata": {},
   "cell_type": "markdown",
   "source": "4. Find $y'$ where $y = (x^2 + 5x)^6$",
   "id": "e89e9729de9b449"
  },
  {
   "metadata": {
    "ExecuteTime": {
     "end_time": "2025-04-08T15:20:40.727827Z",
     "start_time": "2025-04-08T15:20:40.710328Z"
    }
   },
   "cell_type": "code",
   "source": [
    "sym_x = sp.symbols('x')\n",
    "fourth_solution = sp.diff((sym_x**2 + 5*sym_x)**6, sym_x)\n",
    "sp.simplify(fourth_solution)"
   ],
   "id": "421c82bbb7ae5ce7",
   "outputs": [
    {
     "data": {
      "text/plain": [
       "x**5*(x + 5)**5*(12*x + 30)"
      ],
      "text/latex": "$\\displaystyle x^{5} \\left(x + 5\\right)^{5} \\left(12 x + 30\\right)$"
     },
     "execution_count": 225,
     "metadata": {},
     "output_type": "execute_result"
    }
   ],
   "execution_count": 225
  },
  {
   "metadata": {},
   "cell_type": "markdown",
   "source": "5. Differentiate $f(x) = \\frac{1}{(x^4 + 1)^5 + 7}$",
   "id": "914d7878947bff5d"
  },
  {
   "metadata": {
    "ExecuteTime": {
     "end_time": "2025-04-08T15:21:53.323374Z",
     "start_time": "2025-04-08T15:21:53.291874Z"
    }
   },
   "cell_type": "code",
   "source": [
    "sym_x = sp.symbols('x')\n",
    "fifth_solution = sp.diff(1/((sym_x**4 + 1)**5 + 7), sym_x)\n",
    "sp.simplify(fifth_solution)"
   ],
   "id": "fb6b8e0a83e630ea",
   "outputs": [
    {
     "data": {
      "text/plain": [
       "-20*x**3*(x**4 + 1)**4/((x**4 + 1)**5 + 7)**2"
      ],
      "text/latex": "$\\displaystyle - \\frac{20 x^{3} \\left(x^{4} + 1\\right)^{4}}{\\left(\\left(x^{4} + 1\\right)^{5} + 7\\right)^{2}}$"
     },
     "execution_count": 231,
     "metadata": {},
     "output_type": "execute_result"
    }
   ],
   "execution_count": 231
  },
  {
   "metadata": {},
   "cell_type": "markdown",
   "source": "### Power rule on a function chain",
   "id": "f20fd5220c22cf20"
  },
  {
   "metadata": {},
   "cell_type": "markdown",
   "source": [
    "Say you want to calculate the derivative of $u$ to the power of $n$, where $u$ is a nested function of $x$:\n",
    "\n",
    "$$\\frac{d}{dx}u^n = nu^{n-1}\\frac{du}{dx}$$\n",
    "\n",
    "For example, if $y = (3x + 1)^2$, $n = 2$ and $u = 3x + 1$, we can calculate the derivative as follows:\n",
    "\n",
    "$$\\frac{dy}{dx} = \\frac{d}{dx}u^n = nu^{n-1}\\frac{du}{dx} = (2(3x + 1)^1)(3) = (6x + 2)(3) = 18x + 6$$"
   ],
   "id": "5b1a18ecb11c1097"
  },
  {
   "metadata": {
    "ExecuteTime": {
     "end_time": "2025-04-08T15:26:39.671150Z",
     "start_time": "2025-04-08T15:26:39.664649Z"
    }
   },
   "cell_type": "code",
   "source": [
    "sym_x = sp.symbols('x')\n",
    "n = 2\n",
    "u = 3*sym_x + 1\n",
    "power_chain = n * u**(n-1) * sp.diff(u, sym_x)\n",
    "power_chain"
   ],
   "id": "b7439c97f216b1aa",
   "outputs": [
    {
     "data": {
      "text/plain": [
       "18*x + 6"
      ],
      "text/latex": "$\\displaystyle 18 x + 6$"
     },
     "execution_count": 232,
     "metadata": {},
     "output_type": "execute_result"
    }
   ],
   "execution_count": 232
  }
 ],
 "metadata": {
  "kernelspec": {
   "display_name": "Python 3",
   "language": "python",
   "name": "python3"
  },
  "language_info": {
   "codemirror_mode": {
    "name": "ipython",
    "version": 2
   },
   "file_extension": ".py",
   "mimetype": "text/x-python",
   "name": "python",
   "nbconvert_exporter": "python",
   "pygments_lexer": "ipython2",
   "version": "2.7.6"
  }
 },
 "nbformat": 4,
 "nbformat_minor": 5
}
