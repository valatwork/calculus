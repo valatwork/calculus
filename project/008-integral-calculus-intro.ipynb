{
 "cells": [
  {
   "metadata": {},
   "cell_type": "markdown",
   "source": "# Integral Calculus - Introduction",
   "id": "1fbcc60ade04edd7"
  },
  {
   "metadata": {},
   "cell_type": "markdown",
   "source": "## Applications of Integral Calculus",
   "id": "738bd2329cef22"
  },
  {
   "metadata": {},
   "cell_type": "markdown",
   "source": "### Binary Classification",
   "id": "3026db9d5aa554ee"
  },
  {
   "metadata": {},
   "cell_type": "markdown",
   "source": [
    "Say we have $x$ and $y$ values, and we want to learn a function that can use $x$ to approximate $y$.\n",
    "\n",
    "Examples:\n",
    "\n",
    "- Regression analysis (numerical prediction)\n",
    "    - Clinical models\n",
    "    - Sales of a product\n",
    "    - Future value of an asset\n",
    "- Classification (predicting whether an object belongs to a category)\n",
    "    - Multinomial: more than 2 classes\n",
    "    - Binomial (or binary): 2 classes\n",
    "\n",
    "The most common way to evaluate the performance of a binary classifier is to use the area under the curve (AUC) metric.\n",
    "\n",
    "The AUC metric is a number between 0 and 1, where 0.5 means that the classifier is no better than random guessing, and 1 means that the classifier is perfect.\n"
   ],
   "id": "a3635aceeb1ed71b"
  },
  {
   "metadata": {},
   "cell_type": "markdown",
   "source": "### Confusion Matrix\n",
   "id": "5ebcf3f8123217fb"
  },
  {
   "metadata": {},
   "cell_type": "markdown",
   "source": [
    "| Predicted $y$ | Actual $y = 1$ | Actual $y = 0$ |\n",
    "|---------------|----------------|----------------|\n",
    "| $1$           | True Positive  | False Positive |\n",
    "| $0$           | False Negative | True Negative  |"
   ],
   "id": "df1f9cd22de9de68"
  },
  {
   "metadata": {},
   "cell_type": "markdown",
   "source": "### Receiver-Operating Characteristic (ROC) Curve",
   "id": "d1c948f5dd195d1e"
  },
  {
   "metadata": {},
   "cell_type": "markdown",
   "source": "The ROC curve is a graphical representation of the performance of a binary classifier as the discrimination threshold is varied.",
   "id": "3d78708ac4a06ebd"
  },
  {
   "metadata": {},
   "cell_type": "markdown",
   "source": "## What integral calculus is",
   "id": "4a9d9fedd3f7800c"
  },
  {
   "metadata": {},
   "cell_type": "markdown",
   "source": [
    "Integral calculus is the study of areas under curves, and it facilitates the inverse of differential calculus.\n",
    "\n",
    "For example, it would allow to go from speed over time to distance over time.\n",
    "\n",
    "With integral calculus it is also possible to find areas more generally, volumes, and central points.\n",
    "\n",
    "A sample notation for the integral of $2x$ is:\n",
    "\n",
    "$$\\int 2x \\, dx$$"
   ],
   "id": "1ec2f124bc459e4a"
  },
  {
   "metadata": {},
   "cell_type": "markdown",
   "source": "## Integral rules",
   "id": "3d1a1389c4f025f7"
  },
  {
   "metadata": {},
   "cell_type": "markdown",
   "source": "### Power rule",
   "id": "fde438deac6c5075"
  },
  {
   "metadata": {},
   "cell_type": "markdown",
   "source": [
    "$$\\int x^n \\, dx = \\frac{x^{n+1}}{n+1} + C$$\n",
    "\n",
    "Say we want to integrate $x^4$:\n",
    "\n",
    "$$\\int x^4 \\, dx = \\frac{x^{4+1}}{4+1} + C = \\frac{x^5}{5} + C$$"
   ],
   "id": "d977e32146198b76"
  },
  {
   "metadata": {},
   "cell_type": "markdown",
   "source": "### Constant multiple rule",
   "id": "bfe6e82acdd1a4c5"
  },
  {
   "metadata": {},
   "cell_type": "markdown",
   "source": [
    "$$\\int c  f(x) \\, dx = c  \\int f(x) \\, dx + C$$\n",
    "\n",
    "Let's say we want to integrate $9x^2$:\n",
    "\n",
    "$$\\int 9x^2 \\, dx = 9 \\int x^2 \\, dx = 9 \\frac{x^{2+1}}{2+1} + C = 9 \\frac{x^3}{3} + C = 3x^3 + C$$"
   ],
   "id": "7b49218876ea25a1"
  },
  {
   "metadata": {},
   "cell_type": "markdown",
   "source": "### Sum rule",
   "id": "f12b2b86c952cae3"
  },
  {
   "metadata": {},
   "cell_type": "markdown",
   "source": [
    "$$\\int (f(x) + g(x)) \\, dx = \\int f(x) \\, dx + \\int g(x) \\, dx + C$$\n",
    "\n",
    "Let's say we want to integrate $x^4 + 9x^2$:\n",
    "\n",
    "$$\\int (x^4 + 9x^2) \\, dx = \\int x^4 \\, dx + \\int 9x^2 \\, dx = \\frac{x^{4+1}}{4+1} + 3x^3 + C = \\frac{x^5}{5} + 3x^3 + C$$"
   ],
   "id": "67a98b3c7a231b85"
  },
  {
   "metadata": {},
   "cell_type": "markdown",
   "source": "#### Integrals with Python",
   "id": "946fae4072aeb141"
  },
  {
   "metadata": {
    "ExecuteTime": {
     "end_time": "2025-04-13T14:50:27.571034Z",
     "start_time": "2025-04-13T14:50:26.859535Z"
    }
   },
   "cell_type": "code",
   "source": "import sympy as sp",
   "id": "ef959f4e6974a105",
   "outputs": [],
   "execution_count": 1
  },
  {
   "metadata": {},
   "cell_type": "markdown",
   "source": "1. Integrate $x^5$:",
   "id": "a50751b4a9e7eac"
  },
  {
   "metadata": {
    "ExecuteTime": {
     "end_time": "2025-04-13T14:50:50.163616Z",
     "start_time": "2025-04-13T14:50:50.088617Z"
    }
   },
   "cell_type": "code",
   "source": [
    "sym_x = sp.symbols('x')\n",
    "integral_x5 = sp.integrate(sym_x**5, sym_x)\n",
    "integral_x5"
   ],
   "id": "24368797c87bfceb",
   "outputs": [
    {
     "data": {
      "text/plain": [
       "x**6/6"
      ],
      "text/latex": "$\\displaystyle \\frac{x^{6}}{6}$"
     },
     "execution_count": 2,
     "metadata": {},
     "output_type": "execute_result"
    }
   ],
   "execution_count": 2
  },
  {
   "metadata": {},
   "cell_type": "markdown",
   "source": "2. Integrate $12x^5$:",
   "id": "4f2450cf468a2c5a"
  },
  {
   "metadata": {
    "ExecuteTime": {
     "end_time": "2025-04-13T14:51:11.110129Z",
     "start_time": "2025-04-13T14:51:11.102629Z"
    }
   },
   "cell_type": "code",
   "source": [
    "sym_x = sp.symbols('x')\n",
    "integral_12x5 = sp.integrate(12*sym_x**5, sym_x)\n",
    "integral_12x5"
   ],
   "id": "7d06d1824f705f9e",
   "outputs": [
    {
     "data": {
      "text/plain": [
       "2*x**6"
      ],
      "text/latex": "$\\displaystyle 2 x^{6}$"
     },
     "execution_count": 3,
     "metadata": {},
     "output_type": "execute_result"
    }
   ],
   "execution_count": 3
  },
  {
   "metadata": {},
   "cell_type": "markdown",
   "source": "3. Integrate $12x^5 - x$:",
   "id": "37faa6e127ecdc2a"
  },
  {
   "metadata": {
    "ExecuteTime": {
     "end_time": "2025-04-13T14:51:41.288596Z",
     "start_time": "2025-04-13T14:51:41.277597Z"
    }
   },
   "cell_type": "code",
   "source": [
    "sym_x = sp.symbols('x')\n",
    "integral_12x5_minus_x = sp.integrate(12*sym_x**5 - sym_x, sym_x)\n",
    "integral_12x5_minus_x"
   ],
   "id": "8822432be57afbbc",
   "outputs": [
    {
     "data": {
      "text/plain": [
       "2*x**6 - x**2/2"
      ],
      "text/latex": "$\\displaystyle 2 x^{6} - \\frac{x^{2}}{2}$"
     },
     "execution_count": 4,
     "metadata": {},
     "output_type": "execute_result"
    }
   ],
   "execution_count": 4
  }
 ],
 "metadata": {
  "kernelspec": {
   "display_name": "Python 3",
   "language": "python",
   "name": "python3"
  },
  "language_info": {
   "codemirror_mode": {
    "name": "ipython",
    "version": 2
   },
   "file_extension": ".py",
   "mimetype": "text/x-python",
   "name": "python",
   "nbconvert_exporter": "python",
   "pygments_lexer": "ipython2",
   "version": "2.7.6"
  }
 },
 "nbformat": 4,
 "nbformat_minor": 5
}
