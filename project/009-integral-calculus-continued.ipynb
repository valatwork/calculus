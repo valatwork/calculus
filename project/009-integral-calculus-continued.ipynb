{
 "cells": [
  {
   "metadata": {},
   "cell_type": "markdown",
   "source": "# Definite Integrals",
   "id": "6761e9b00385072d"
  },
  {
   "metadata": {},
   "cell_type": "markdown",
   "source": [
    "Definite integrals are used to calculate the area under a curve between two points. The notation for a definite integral, where $a$ and $b$ are the limits of integration, is as follows:\n",
    "\n",
    "$$\\int_a^b f(x) \\, dx$$\n",
    "\n",
    "Let's say we want to calculate the area under the curve $y = \\frac{1}{x}$ between $x = 1$ and $x = 2$:\n",
    "\n",
    "$$\\int_1^2 \\frac{1}{x} \\, dx = (1 + C) - (\\frac{1}{4} + C) = 1 - \\frac{1}{4} = \\frac{3}{4}$$"
   ],
   "id": "bc93de490d6cbe4b"
  },
  {
   "metadata": {
    "ExecuteTime": {
     "end_time": "2025-04-13T15:02:04.058564Z",
     "start_time": "2025-04-13T15:02:01.197491Z"
    }
   },
   "cell_type": "code",
   "source": "from scipy.integrate import quad",
   "id": "2a41900307a93724",
   "outputs": [],
   "execution_count": 1
  },
  {
   "metadata": {
    "ExecuteTime": {
     "end_time": "2025-04-13T15:02:18.478541Z",
     "start_time": "2025-04-13T15:02:18.475041Z"
    }
   },
   "cell_type": "code",
   "source": [
    "def g(x):\n",
    "    return x/2"
   ],
   "id": "c5c01fdbbddbea87",
   "outputs": [],
   "execution_count": 2
  },
  {
   "metadata": {},
   "cell_type": "markdown",
   "source": "The second output of `quad` is an estimate of the absolute error in the result. The first output is the integral value, and the second output is the error estimate:",
   "id": "1a6ed7b425393c7"
  },
  {
   "metadata": {},
   "cell_type": "code",
   "outputs": [],
   "execution_count": null,
   "source": "quad(g, 1, 2)",
   "id": "61e0a168aa74e644"
  },
  {
   "metadata": {},
   "cell_type": "markdown",
   "source": [
    "Evaluate the following expression:\n",
    "\n",
    "$$\\int_3^4 2x \\, dx$$"
   ],
   "id": "b301e8880482d6d4"
  },
  {
   "metadata": {
    "ExecuteTime": {
     "end_time": "2025-04-13T15:05:02.505160Z",
     "start_time": "2025-04-13T15:05:02.502159Z"
    }
   },
   "cell_type": "code",
   "source": [
    "def h(x):\n",
    "    return 2*x"
   ],
   "id": "613294c33afa3f49",
   "outputs": [],
   "execution_count": 8
  },
  {
   "metadata": {
    "ExecuteTime": {
     "end_time": "2025-04-13T15:05:12.074057Z",
     "start_time": "2025-04-13T15:05:12.069556Z"
    }
   },
   "cell_type": "code",
   "source": "quad(h, 3, 4)",
   "id": "c5ff8c062ad91101",
   "outputs": [
    {
     "data": {
      "text/plain": [
       "(7.0, 7.771561172376096e-14)"
      ]
     },
     "execution_count": 9,
     "metadata": {},
     "output_type": "execute_result"
    }
   ],
   "execution_count": 9
  },
  {
   "metadata": {
    "ExecuteTime": {
     "end_time": "2025-04-13T15:04:11.846596Z",
     "start_time": "2025-04-13T15:04:11.226095Z"
    }
   },
   "cell_type": "code",
   "source": "import sympy as sp",
   "id": "509a545560fae75e",
   "outputs": [],
   "execution_count": 6
  },
  {
   "metadata": {
    "ExecuteTime": {
     "end_time": "2025-04-13T15:04:17.220842Z",
     "start_time": "2025-04-13T15:04:17.183341Z"
    }
   },
   "cell_type": "code",
   "source": [
    "sym_x = sp.symbols('x')\n",
    "integral_2x = sp.integrate(2*sym_x, (sym_x, 3, 4))\n",
    "integral_2x"
   ],
   "id": "4ccdafed1b4b8f42",
   "outputs": [
    {
     "data": {
      "text/plain": [
       "7"
      ],
      "text/latex": "$\\displaystyle 7$"
     },
     "execution_count": 7,
     "metadata": {},
     "output_type": "execute_result"
    }
   ],
   "execution_count": 7
  },
  {
   "metadata": {},
   "cell_type": "markdown",
   "source": "## Finding the area under the ROC curve",
   "id": "5156a7a7ccfcbcf5"
  },
  {
   "metadata": {},
   "cell_type": "markdown",
   "source": [
    "Say we want to calculate the AUC under the ROC curve of a confusion matrix.\n",
    "\n",
    "The $(x,y)$ coordinates of the ROC curve are:\n",
    "\n",
    "- (0, 0)\n",
    "- (0, 0.5)\n",
    "- (0.5, 0.5)\n",
    "- (0.5, 1)\n",
    "- (1, 1)"
   ],
   "id": "8d77175ce6be5a37"
  },
  {
   "metadata": {
    "ExecuteTime": {
     "end_time": "2025-04-13T15:08:20.520106Z",
     "start_time": "2025-04-13T15:08:14.522602Z"
    }
   },
   "cell_type": "code",
   "outputs": [],
   "execution_count": 11,
   "source": "from sklearn.metrics import auc",
   "id": "bb392f545a4bba1f"
  },
  {
   "metadata": {
    "ExecuteTime": {
     "end_time": "2025-04-13T15:11:08.088148Z",
     "start_time": "2025-04-13T15:11:08.084646Z"
    }
   },
   "cell_type": "code",
   "source": [
    "xs = [0, 0,   0.5, 0.5, 1]\n",
    "ys = [0, 0.5, 0.5, 1,   1]"
   ],
   "id": "1fb76ada997b28a5",
   "outputs": [],
   "execution_count": 12
  },
  {
   "metadata": {
    "ExecuteTime": {
     "end_time": "2025-04-13T15:11:11.665647Z",
     "start_time": "2025-04-13T15:11:11.660148Z"
    }
   },
   "cell_type": "code",
   "source": "auc(xs, ys)",
   "id": "d05dc9db19b43f82",
   "outputs": [
    {
     "data": {
      "text/plain": [
       "0.75"
      ]
     },
     "execution_count": 13,
     "metadata": {},
     "output_type": "execute_result"
    }
   ],
   "execution_count": 13
  }
 ],
 "metadata": {
  "kernelspec": {
   "display_name": "Python 3",
   "language": "python",
   "name": "python3"
  },
  "language_info": {
   "codemirror_mode": {
    "name": "ipython",
    "version": 2
   },
   "file_extension": ".py",
   "mimetype": "text/x-python",
   "name": "python",
   "nbconvert_exporter": "python",
   "pygments_lexer": "ipython2",
   "version": "2.7.6"
  }
 },
 "nbformat": 4,
 "nbformat_minor": 5
}
